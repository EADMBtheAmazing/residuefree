{
 "cells": [
  {
   "cell_type": "code",
   "execution_count": 1,
   "metadata": {},
   "outputs": [],
   "source": [
    "################################################################\n",
    "### Notebook to visualize and analyze filesystem operation   ###\n",
    "### benchmarks inside and outside ResidueFree using Iozone   ###\n",
    "### test suite. Data and command-line prompts are in the     ###\n",
    "### benchmark_results folder                                 ###\n",
    "################################################################"
   ]
  },
  {
   "cell_type": "code",
   "execution_count": 2,
   "metadata": {},
   "outputs": [],
   "source": [
    "import matplotlib\n",
    "import matplotlib.pyplot as plt\n",
    "import numpy as np\n",
    "import statistics"
   ]
  },
  {
   "cell_type": "code",
   "execution_count": 3,
   "metadata": {},
   "outputs": [],
   "source": [
    "#Class to maintain the name and an array of averages for each test mode\n",
    "class IozoneTestMode:\n",
    "    def __init__(self, name):\n",
    "        self.name = name\n",
    "        self.write_avgs = np.array([])\n",
    "        self.rewrite_avgs = np.array([])\n",
    "        self.read_avgs = np.array([])\n",
    "        self.reread_avgs = np.array([])\n",
    "        self.random_read_avgs = np.array([])\n",
    "        self.random_write_avgs = np.array([])\n",
    "        self.bkwd_read_avgs = np.array([])\n",
    "        self.record_rewrite_avgs = np.array([])\n",
    "        self.stride_read_avgs = np.array([])\n",
    "        self.fwrite_avgs = np.array([])\n",
    "        self.frewrite_avgs = np.array([])\n",
    "        self.fread_avgs = np.array([])\n",
    "        self.freread_avgs = np.array([])"
   ]
  },
  {
   "cell_type": "code",
   "execution_count": 4,
   "metadata": {},
   "outputs": [],
   "source": [
    "Baseline = IozoneTestMode('baseline')\n",
    "NoCryptoResidue = IozoneTestMode('NoEcryptFSResidue')\n",
    "ResidueFree = IozoneTestMode('ResidueFree')\n",
    "\n",
    "modes = [Baseline, NoCryptoResidue, ResidueFree]\n",
    "\n",
    "dir = \"benchmark_results/Iozone/\"\n",
    "\n",
    "for mode in modes:\n",
    "\n",
    "    #Parse through all files generated under the same operational mode and maintain an array of averages\n",
    "    #for each type of test across each run\n",
    "\n",
    "    for i in range(1,31):\n",
    "        fstring = dir + mode.name + '_iozone' + str(i) +'.txt'\n",
    "        #print(fstring)\n",
    "        file = open(fstring,'r')\n",
    "        lines = file.read().splitlines()\n",
    "        lines = lines[25:151]\n",
    "\n",
    "        write = []\n",
    "        rewrite = []\n",
    "        read = []\n",
    "        reread = []\n",
    "        random_read = []\n",
    "        random_write = []\n",
    "        bkwd_read = []\n",
    "        record_rewrite = []\n",
    "        stride_read = []\n",
    "        fwrite = []\n",
    "        frewrite = []\n",
    "        fread = []\n",
    "        freread = []\n",
    "\n",
    "        #Accumulate the kb/s per each test, regardless of file or record size\n",
    "        for line in lines:\n",
    "            #print(\"line\")\n",
    "            datapoints = line.split()\n",
    "            write.append(int(datapoints[2]))\n",
    "            rewrite.append(int(datapoints[3]))\n",
    "            read.append(int(datapoints[4]))\n",
    "            reread.append(int(datapoints[5]))\n",
    "            random_read.append(int(datapoints[6]))\n",
    "            random_write.append(int(datapoints[7]))\n",
    "            bkwd_read.append(int(datapoints[8]))\n",
    "            record_rewrite.append(int(datapoints[9]))\n",
    "            stride_read.append(int(datapoints[10]))\n",
    "            fwrite.append(int(datapoints[11]))\n",
    "            frewrite.append(int(datapoints[12]))\n",
    "            fread.append(int(datapoints[13]))\n",
    "            freread.append(int(datapoints[14]))\n",
    "\n",
    "        #Add averages for each test across that test run to array of averages for all 30 test runs\n",
    "        mode.write_avgs = np.append(mode.write_avgs, statistics.mean(write))\n",
    "        mode.rewrite_avgs = np.append(mode.rewrite_avgs, statistics.mean(rewrite))\n",
    "        mode.read_avgs = np.append(mode.read_avgs, statistics.mean(read))\n",
    "        mode.reread_avgs = np.append(mode.reread_avgs, statistics.mean(reread))\n",
    "        mode.random_read_avgs = np.append(mode.random_read_avgs, statistics.mean(random_read))\n",
    "        mode.random_write_avgs = np.append(mode.random_write_avgs, statistics.mean(random_write))\n",
    "        mode.bkwd_read_avgs = np.append(mode.bkwd_read_avgs, statistics.mean(bkwd_read))\n",
    "        mode.record_rewrite_avgs = np.append(mode.record_rewrite_avgs, statistics.mean(record_rewrite))\n",
    "        mode.stride_read_avgs = np.append(mode.stride_read_avgs, statistics.mean(stride_read))\n",
    "        mode.fwrite_avgs = np.append(mode.fwrite_avgs, statistics.mean(fwrite))\n",
    "        mode.frewrite_avgs = np.append(mode.frewrite_avgs, statistics.mean(frewrite))\n",
    "        mode.fread_avgs = np.append(mode.fread_avgs, statistics.mean(fread))\n",
    "        mode.freread_avgs = np.append(mode.freread_avgs, statistics.mean(freread))"
   ]
  },
  {
   "cell_type": "code",
   "execution_count": 5,
   "metadata": {},
   "outputs": [],
   "source": [
    "attributes = [\"write_avgs\", \"rewrite_avgs\", \"record_rewrite_avgs\", \"read_avgs\",\"reread_avgs\", \"random_read_avgs\", \"random_write_avgs\",\n",
    "              \"bkwd_read_avgs\",\n",
    "              \"stride_read_avgs\", \"fwrite_avgs\", \"frewrite_avgs\", \"fread_avgs\", \"freread_avgs\"]\n",
    "\n",
    "#Convert from Kb/s to Mb/s\n",
    "for mode in modes:\n",
    "    for attr in attributes:\n",
    "        vars(mode)[attr] = [i/1000 for i in vars(mode)[attr]]"
   ]
  },
  {
   "cell_type": "code",
   "execution_count": 6,
   "metadata": {},
   "outputs": [],
   "source": [
    "# Verify that conversion worked\n",
    "#print (NoCryptoResidue.fread_avgs)"
   ]
  },
  {
   "cell_type": "code",
   "execution_count": 7,
   "metadata": {},
   "outputs": [],
   "source": [
    "#Set fonttype so it is not type3 (for publishing)\n",
    "matplotlib.rcParams['pdf.fonttype'] = 42\n",
    "matplotlib.rcParams['ps.fonttype'] = 42"
   ]
  },
  {
   "cell_type": "code",
   "execution_count": 8,
   "metadata": {
    "scrolled": false
   },
   "outputs": [
    {
     "data": {
      "image/png": "[encoded data removed]",
      "text/plain": [
       "<Figure size 576x288 with 1 Axes>"
      ]
     },
     "metadata": {},
     "output_type": "display_data"
    }
   ],
   "source": [
    "# Use matplotlib to graph file system operations and their standard deviations\n",
    "\n",
    "Baseline_avgs = []\n",
    "Baseline_std = []\n",
    "NoCryptoResidue_avgs = []\n",
    "NoCryptoResidue_std = []\n",
    "Residue_avgs = []\n",
    "Residue_std = []\n",
    "\n",
    "Names = []\n",
    "\n",
    "attributes = [\"write_avgs\", \"rewrite_avgs\", \"record_rewrite_avgs\", \"read_avgs\",\"reread_avgs\", \"random_read_avgs\", \"random_write_avgs\",\n",
    "              \"bkwd_read_avgs\",\n",
    "              \"stride_read_avgs\", \"fwrite_avgs\", \"frewrite_avgs\", \"fread_avgs\", \"freread_avgs\"]\n",
    "\n",
    "# Create arrays of means and standard deviations composed of the results from each test\n",
    "for attr in attributes:\n",
    "    Baseline_avgs.append(np.mean(vars(Baseline)[attr]))\n",
    "    Baseline_std.append(np.std(vars(Baseline)[attr]))\n",
    "    NoCryptoResidue_avgs.append(np.mean(vars(NoCryptoResidue)[attr]))\n",
    "    NoCryptoResidue_std.append(np.std(vars(NoCryptoResidue)[attr]))\n",
    "    Residue_avgs.append(np.mean(vars(ResidueFree)[attr]))\n",
    "    Residue_std.append(np.std(vars(ResidueFree)[attr]))\n",
    "\n",
    "fig, ax = plt.subplots()\n",
    "ind = np.arange(len(Baseline_avgs))\n",
    "width = 0.2\n",
    "\n",
    "# Create clustered bar charts (all three modes clustered around each test)\n",
    "Baseline_rects = ax.bar(ind - width, Baseline_avgs, width, yerr=Baseline_std, label='Baseline')\n",
    "NoCryptoResidue_rects = ax.bar(ind, NoCryptoResidue_avgs, width, yerr=NoCryptoResidue_std, label='Residue Free w/o Encryption')\n",
    "Residue_rects = ax.bar(ind + width, Residue_avgs, width, yerr=Residue_std, label='Residue Free')\n",
    "\n",
    "\n",
    "# Label each test, shortening some of them\n",
    "att_names = []\n",
    "for attr in attributes:\n",
    "    if attr == \"random_read_avgs\":\n",
    "        att_names.append(\"rand_read\")\n",
    "    elif attr == \"random_write_avgs\":\n",
    "        att_names.append(\"rand_write\")\n",
    "    else:\n",
    "        att_names.append(attr.split('_avgs')[0])\n",
    "\n",
    "# Set graph labels\n",
    "ax.set_ylabel(\"Megabytes per Second\", fontsize=14)\n",
    "ax.set_xlabel(\"File Operation\", fontsize=14)\n",
    "ax.set_xticks(ind)\n",
    "xlabels = [var.replace('_',' ') for var in att_names]\n",
    "xlabels = [var.replace('rand','random') for var in xlabels]\n",
    "ax.set_xticklabels(xlabels, fontsize=10, rotation=45, ha='right')\n",
    "#ax.set_alpha(20)\n",
    "ax.legend(fontsize=10)\n",
    "\n",
    "# Set figure display options\n",
    "fig.tight_layout()\n",
    "fig.set_size_inches(8, 4, forward=True)\n",
    "plt.grid(b=True,which=\"major\",axis=\"y\",color='gray')\n",
    "plt.yticks(fontsize=10)\n",
    "plt.style.use('tableau-colorblind10')\n",
    "fig.set_facecolor('white')\n",
    "plt.savefig(\"./Figures/Files.pdf\")\n",
    "plt.show()"
   ]
  },
  {
   "cell_type": "code",
   "execution_count": 9,
   "metadata": {
    "scrolled": true
   },
   "outputs": [
    {
     "name": "stdout",
     "output_type": "stream",
     "text": [
      "636.9033613960114\n",
      "2113.7635080179075\n",
      "0.30131249734424675\n"
     ]
    }
   ],
   "source": [
    "# Compare ResidueFree to normal operations\n",
    "print(np.mean(Residue_avgs))\n",
    "print(np.mean(Baseline_avgs))\n",
    "print(np.mean(Residue_avgs) / np.mean(Baseline_avgs))"
   ]
  },
  {
   "cell_type": "code",
   "execution_count": 10,
   "metadata": {},
   "outputs": [
    {
     "name": "stdout",
     "output_type": "stream",
     "text": [
      "858.898613960114\n",
      "2113.7635080179075\n",
      "0.4063361916799812\n"
     ]
    }
   ],
   "source": [
    "# Compare ResidueFree without encryption to normal operations\n",
    "print(np.mean(NoCryptoResidue_avgs))\n",
    "print(np.mean(Baseline_avgs))\n",
    "print(np.mean(NoCryptoResidue_avgs) / np.mean(Baseline_avgs))"
   ]
  },
  {
   "cell_type": "code",
   "execution_count": 11,
   "metadata": {},
   "outputs": [
    {
     "name": "stdout",
     "output_type": "stream",
     "text": [
      "636.9033613960114\n",
      "858.898613960114\n",
      "0.741534974028481\n"
     ]
    }
   ],
   "source": [
    "# Compare ResidueFree operations with and without encryption\n",
    "print(np.mean(Residue_avgs))\n",
    "print(np.mean(NoCryptoResidue_avgs))\n",
    "print(np.mean(Residue_avgs) / np.mean(NoCryptoResidue_avgs))"
   ]
  },
  {
   "cell_type": "code",
   "execution_count": 12,
   "metadata": {},
   "outputs": [
    {
     "name": "stdout",
     "output_type": "stream",
     "text": [
      "119.95703223104057\n",
      "536.9901236772487\n",
      "0.223387781156175\n",
      "\n",
      "1080.0002149659865\n",
      "1134.8201770597127\n",
      "0.9516928204116328\n"
     ]
    }
   ],
   "source": [
    "# Compare ResidueFree read and write operations with and without encryption\n",
    "\n",
    "Writes_Residue = []\n",
    "Reads_Residue = []\n",
    "Writes_NoCrypto = []\n",
    "Reads_NoCrypto = []\n",
    "\n",
    "# Group all tests into either write or read tests\n",
    "for attr in attributes:\n",
    "    if attr.find(\"write\") != -1:\n",
    "        Writes_Residue.append(np.mean(vars(ResidueFree)[attr]))\n",
    "        Writes_NoCrypto.append(np.mean(vars(NoCryptoResidue)[attr]))\n",
    "    elif attr ==\"name\":\n",
    "        print('')\n",
    "    else:\n",
    "        Reads_Residue.append(np.mean(vars(ResidueFree)[attr]))\n",
    "        Reads_NoCrypto.append(np.mean(vars(NoCryptoResidue)[attr]))\n",
    "\n",
    "# Compare encrypted writes as a percentage of unencrypted writes            \n",
    "print(np.mean(Writes_Residue))\n",
    "print(np.mean(Writes_NoCrypto))\n",
    "print(np.mean(Writes_Residue) / np.mean(Writes_NoCrypto))\n",
    "print('')\n",
    "\n",
    "# Compate encrypted reads as a percentage of unencrypted reads\n",
    "print(np.mean(Reads_Residue))\n",
    "print(np.mean(Reads_NoCrypto))\n",
    "print(np.mean(Reads_Residue) / np.mean(Reads_NoCrypto))"
   ]
  }
 ],
 "metadata": {
  "kernelspec": {
   "display_name": "Python 3",
   "language": "python",
   "name": "python3"
  },
  "language_info": {
   "codemirror_mode": {
    "name": "ipython",
    "version": 3
   },
   "file_extension": ".py",
   "mimetype": "text/x-python",
   "name": "python",
   "nbconvert_exporter": "python",
   "pygments_lexer": "ipython3",
   "version": "3.9.5"
  }
 },
 "nbformat": 4,
 "nbformat_minor": 2
}
