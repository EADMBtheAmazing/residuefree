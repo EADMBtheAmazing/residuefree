{
 "cells": [
  {
   "cell_type": "code",
   "execution_count": 1,
   "metadata": {},
   "outputs": [],
   "source": [
    "#############################################################\n",
    "### Notebook to visualize and analyze system benchmark    ###\n",
    "### inside and outside ResidueFree using Phoronix         ###\n",
    "### test suite. Data and command-line prompts are in the  ###\n",
    "### benchmark_results folder                              ###\n",
    "#############################################################"
   ]
  },
  {
   "cell_type": "code",
   "execution_count": 2,
   "metadata": {},
   "outputs": [],
   "source": [
    "import matplotlib.pyplot as plt\n",
    "import numpy as np\n",
    "import statistics\n",
    "import re"
   ]
  },
  {
   "cell_type": "code",
   "execution_count": 3,
   "metadata": {},
   "outputs": [],
   "source": [
    "#Create a class for each Phoronix Test Result\n",
    "class PhoronixTestMode:\n",
    "    def __init__(self, name):\n",
    "        self.name = name\n",
    "        self.GLUniform_results = np.array([])\n",
    "        self.GLNative_results = np.array([])\n",
    "        self.GLNoTex_results = np.array([])\n",
    "        self.GLDrawLoop_results = np.array([])\n",
    "        self.GLTexCoord_results = np.array([])\n",
    "        self.GLBufferRange_results = np.array([])\n",
    "        self.GLBufferSubData_Streaming_results = np.array([])\n",
    "        self.GLMapPersistent_Streaming_results = np.array([])\n",
    "        self.GLBufferSubData_Objects_results = np.array([])\n",
    "        self.GLDynamicBuffer_results = np.array([])\n",
    "        self.GLMapPersistent_Objects_results = np.array([])\n",
    "        self.GLNativeUniform_results = np.array([])\n",
    "        self.GLNoTexUniform_results = np.array([])\n",
    "        self.GLTextureArray_results = np.array([])\n",
    "        self.GLMapUnsynchronized_Streaming_results = np.array([])\n",
    "        self.GLBufferStorage_results = np.array([])\n",
    "        self.GLMapUnsynchronized_Objects_results = np.array([])\n",
    "        self.GLBufferStorage_NoSDP_results = np.array([])\n",
    "        self.GLMultiDrawBuffer_SDP_results = np.array([])\n",
    "        self.GLMultiDrawBuffer_NoSDP_results = np.array([])\n",
    "        self.RamSpeed_Integer_results = np.array([])\n",
    "        self.RamSpeed_FloatingPoint_results = np.array([])\n",
    "        self.Loopback_results = np.array([])\n",
    "        self.OpenSSL_results = np.array([])"
   ]
  },
  {
   "cell_type": "code",
   "execution_count": 4,
   "metadata": {},
   "outputs": [],
   "source": [
    "dir = \"benchmark_results/Phoronix/\"\n",
    "\n",
    "Baseline = PhoronixTestMode('baseline')\n",
    "ResidueFree = PhoronixTestMode('final_residue')\n",
    "Modes = [Baseline, ResidueFree]\n",
    "\n",
    "#Iterate over both modes, and all 10 tests ran for each mode\n",
    "for mode in Modes:\n",
    "    for i in range (1, 11):\n",
    "        \n",
    "    \n",
    "        #Open file for the test and mode\n",
    "        fstring = dir + mode.name + str(i) + '.xml'\n",
    "        file = open(fstring,'r')\n",
    "        lines = file.read().splitlines()\n",
    "\n",
    "        #Append the result of each benchmark, all of which were ran in every test, to the array\n",
    "        #Lines were hardcoded because the intial set of tests ... did not scale in how we evaluated - room for improvement\n",
    "        # if running with a different set of tests.\n",
    "        mode.GLUniform_results = np.append(mode.GLUniform_results, float(re.split('>|<',lines[33])[2]))\n",
    "        mode.GLNative_results = np.append(mode.GLNative_results, float(re.split('>|<',lines[51])[2]))\n",
    "        mode.GLNoTex_results = np.append(mode.GLNoTex_results, float(re.split('>|<',lines[69])[2]))\n",
    "        mode.GLDrawLoop_results = np.append(mode.GLDrawLoop_results, float(re.split('>|<',lines[87])[2]))\n",
    "        mode.GLTexCoord_results = np.append(mode.GLTexCoord_results, float(re.split('>|<',lines[105])[2]))\n",
    "        mode.GLBufferRange_results = np.append(mode.GLBufferRange_results, float(re.split('>|<',lines[123])[2]))\n",
    "        mode.GLBufferSubData_Streaming_results = np.append(mode.GLBufferSubData_Streaming_results, float(re.split('>|<',lines[141])[2]))\n",
    "        mode.GLMapPersistent_Streaming_results = np.append(mode.GLMapPersistent_Streaming_results, float(re.split('>|<',lines[159])[2]))\n",
    "        mode.GLBufferSubData_Objects_results = np.append(mode.GLBufferSubData_Objects_results, float(re.split('>|<',lines[177])[2]))\n",
    "        mode.GLDynamicBuffer_results = np.append(mode.GLDynamicBuffer_results, float(re.split('>|<',lines[195])[2]))\n",
    "        mode.GLMapPersistent_Objects_results = np.append(mode.GLMapPersistent_Objects_results, float(re.split('>|<',lines[213])[2]))\n",
    "        mode.GLNativeUniform_results = np.append(mode.GLNativeUniform_results, float(re.split('>|<',lines[231])[2]))\n",
    "        mode.GLNoTexUniform_results = np.append(mode.GLNoTexUniform_results, float(re.split('>|<',lines[249])[2]))\n",
    "        mode.GLTextureArray_results = np.append(mode.GLTextureArray_results, float(re.split('>|<',lines[267])[2]))\n",
    "        mode.GLMapUnsynchronized_Streaming_results = np.append(mode.GLMapUnsynchronized_Streaming_results, float(re.split('>|<',lines[285])[2]))\n",
    "        mode.GLBufferStorage_results = np.append(mode.GLBufferStorage_results, float(re.split('>|<',lines[303])[2]))\n",
    "        mode.GLMapUnsynchronized_Objects_results = np.append(mode.GLMapUnsynchronized_Objects_results, float(re.split('>|<',lines[321])[2]))\n",
    "        mode.GLBufferStorage_NoSDP_results = np.append(mode.GLBufferStorage_NoSDP_results, float(re.split('>|<',lines[339])[2]))\n",
    "        mode.GLMultiDrawBuffer_SDP_results = np.append(mode.GLMultiDrawBuffer_SDP_results, float(re.split('>|<',lines[357])[2]))\n",
    "        mode.GLMultiDrawBuffer_NoSDP_results = np.append(mode.GLMultiDrawBuffer_NoSDP_results, float(re.split('>|<',lines[375])[2]))\n",
    "        mode.RamSpeed_Integer_results = np.append(mode.RamSpeed_Integer_results, float(re.split('>|<',lines[393])[2]))\n",
    "        mode.RamSpeed_FloatingPoint_results = np.append(mode.RamSpeed_FloatingPoint_results, float(re.split('>|<',lines[411])[2]))\n",
    "        mode.Loopback_results = np.append(mode.Loopback_results, float(re.split('>|<', lines[429])[2]))\n",
    "        mode.OpenSSL_results = np.append(mode.OpenSSL_results, float(re.split('>|<',lines[446])[2]))\n",
    "\n",
    "#Convert loopback results from time to send 10 GBs to GB/s\n",
    "Baseline.Loopback_results = [10 / i for i in Baseline.Loopback_results]\n",
    "ResidueFree.Loopback_results = [10/i for i in ResidueFree.Loopback_results]"
   ]
  },
  {
   "cell_type": "code",
   "execution_count": 5,
   "metadata": {},
   "outputs": [
    {
     "name": "stdout",
     "output_type": "stream",
     "text": [
      "\n"
     ]
    }
   ],
   "source": [
    "# Create arrays of averages and standard deviations for all four test groups,\n",
    "# Each of which has an element for each test in the group / benchmark.\n",
    "# Go through the results parsed above and seperate them based on group below.\n",
    "\n",
    "Names = ['Baseline','ResidueFree'] \n",
    "x_pos = np.arange(len(Modes))\n",
    "GRAPH_HEIGHT = 2 #inches\n",
    "\n",
    "# RAM speed tests\n",
    "Ram_Baseline_Avgs = [] \n",
    "Ram_Baseline_Stds = [] \n",
    "Ram_Residue_Avgs = [] \n",
    "Ram_Residue_Stds = [] \n",
    "Ram_varnames = []\n",
    "Ram_boxplots = []\n",
    "\n",
    "#Network loopback tests\n",
    "Loop_Baseline_Avgs = [] \n",
    "Loop_Baseline_Stds = [] \n",
    "Loop_Residue_Avgs = [] \n",
    "Loop_Residue_Stds = [] \n",
    "Loop_varnames = []\n",
    "Loop_boxplots = []\n",
    "\n",
    "# OpenSSL encryption speed tests (proxy for CPU speed)\n",
    "SSL_Baseline_Avgs = [] \n",
    "SSL_Baseline_Stds = [] \n",
    "SSL_Residue_Avgs = [] \n",
    "SSL_Residue_Stds = [] \n",
    "SSL_varnames = []\n",
    "SSL_boxplots = []\n",
    "\n",
    "# Graphics API Tests (another proxy for CPU speed - no dedicated GPU on test machine)\n",
    "API_Baseline_Avgs = [] \n",
    "API_Baseline_Stds = [] \n",
    "API_Residue_Avgs = [] \n",
    "API_Residue_Stds = [] \n",
    "API_varnames = []\n",
    "API_boxplots = []\n",
    "\n",
    "for var in vars(Baseline): \n",
    "    if var == 'RamSpeed_Integer_results' or var == 'RamSpeed_FloatingPoint_results': \n",
    "        Ram_Baseline_Avgs.append(np.mean(vars(Baseline)[var])) \n",
    "        Ram_Baseline_Stds.append(np.std(vars(Baseline)[var])) \n",
    "        Ram_Residue_Avgs.append(np.mean(vars(ResidueFree)[var])) \n",
    "        Ram_Residue_Stds.append(np.std(vars(ResidueFree)[var])) \n",
    "        Ram_varnames.append(var)\n",
    "        Ram_boxplots.append(vars(Baseline)[var])\n",
    "        Ram_boxplots.append(vars(ResidueFree)[var])\n",
    "\n",
    "    elif var == \"Loopback_results\":\n",
    "        Loop_Baseline_Avgs.append(np.mean(vars(Baseline)[var])) \n",
    "        Loop_Baseline_Stds.append(np.std(vars(Baseline)[var])) \n",
    "        Loop_Residue_Avgs.append(np.mean(vars(ResidueFree)[var])) \n",
    "        Loop_Residue_Stds.append(np.std(vars(ResidueFree)[var])) \n",
    "        Loop_varnames.append(var)\n",
    "        Loop_boxplots.append(vars(Baseline)[var])\n",
    "        Loop_boxplots.append(vars(ResidueFree)[var])\n",
    "\n",
    "    elif var == \"OpenSSL_results\":\n",
    "        SSL_Baseline_Avgs.append(np.mean(vars(Baseline)[var])) \n",
    "        SSL_Baseline_Stds.append(np.std(vars(Baseline)[var])) \n",
    "        SSL_Residue_Avgs.append(np.mean(vars(ResidueFree)[var])) \n",
    "        SSL_Residue_Stds.append(np.std(vars(ResidueFree)[var])) \n",
    "        SSL_varnames.append(var)\n",
    "        SSL_boxplots.append(vars(Baseline)[var])\n",
    "        SSL_boxplots.append(vars(ResidueFree)[var])\n",
    "    \n",
    "    elif var == \"name\":\n",
    "        print('')\n",
    "    \n",
    "    else:\n",
    "        API_Baseline_Avgs.append(np.mean(vars(Baseline)[var])) \n",
    "        API_Residue_Avgs.append(np.mean(vars(ResidueFree)[var]))\n",
    "        API_Baseline_Stds.append(np.std(vars(Baseline)[var])) \n",
    "        API_Residue_Stds.append(np.std(vars(ResidueFree)[var])) \n",
    "        API_varnames.append(var)\n",
    "        API_boxplots.append(vars(Baseline)[var])\n",
    "        API_boxplots.append(vars(ResidueFree)[var])"
   ]
  },
  {
   "cell_type": "code",
   "execution_count": 6,
   "metadata": {},
   "outputs": [],
   "source": [
    "# Set consistent plot formatting, which is tweaked as necessary below\n",
    "def set_plot_options():\n",
    "    options = {\n",
    "        'backend': 'PDF',\n",
    "        'font.size': 12,\n",
    "        'figure.figsize': (4,2),\n",
    "        'figure.dpi': 100.0,\n",
    "        'figure.subplot.left': 0.20,\n",
    "        'figure.subplot.right': 0.97,\n",
    "        'figure.subplot.bottom': 0.20,\n",
    "        'figure.subplot.top': 0.90,\n",
    "        'grid.color': '0.1',\n",
    "        'grid.linestyle': ':',\n",
    "        #'grid.linewidth': 0.5,\n",
    "        'axes.grid' : True,\n",
    "        #'axes.grid.axis' : 'y',\n",
    "        #'axes.axisbelow': True,\n",
    "        'axes.titlesize' : 'medium',\n",
    "        'axes.labelsize' : 'medium',\n",
    "        'axes.formatter.limits': (-4,4),\n",
    "        'xtick.labelsize' : 12,\n",
    "        'ytick.labelsize' : 12,\n",
    "        'lines.linewidth' : 2.0,\n",
    "        'lines.markeredgewidth' : 0.5,\n",
    "        'lines.markersize' : 10,\n",
    "        'legend.fontsize' : 11,\n",
    "        'legend.fancybox' : False,\n",
    "        'legend.shadow' : False,\n",
    "        'legend.borderaxespad' : 0.5,\n",
    "        'legend.numpoints' : 1,\n",
    "        'legend.handletextpad' : 0.5,\n",
    "        'legend.handlelength' : 2.0,\n",
    "        'legend.labelspacing' : .75,\n",
    "        'legend.markerscale' : 1.0,\n",
    "        # turn on the following to embedd fonts; requires latex\n",
    "        'ps.useafm' : True,\n",
    "        'pdf.use14corefonts' : True,\n",
    "        'text.usetex' : True,\n",
    "    }\n",
    "\n",
    "    for option_key in options:\n",
    "        matplotlib.rcParams[option_key] = options[option_key]\n",
    "\n",
    "    if 'figure.max_num_figures' in matplotlib.rcParams:\n",
    "        matplotlib.rcParams['figure.max_num_figures'] = 50\n",
    "    if 'figure.max_open_warning' in matplotlib.rcParams:\n",
    "        matplotlib.rcParams['figure.max_open_warning'] = 50\n",
    "    if 'legend.ncol' in matplotlib.rcParams:\n",
    "        matplotlib.rcParams['legend.ncol'] = 50\n",
    "\n",
    "\n",
    "\n",
    "def plot():\n",
    "    matplotlib.rcParams['figure.figsize'] = (7,3)"
   ]
  },
  {
   "cell_type": "code",
   "execution_count": 7,
   "metadata": {},
   "outputs": [
    {
     "data": {
      "image/png": "[encoded data removed]",
      "text/plain": [
       "<Figure size 288x288 with 1 Axes>"
      ]
     },
     "metadata": {
      "needs_background": "light"
     },
     "output_type": "display_data"
    }
   ],
   "source": [
    "## RAM FIGURE PLOT ##\n",
    "fig, ax = plt.subplots() \n",
    "Ram_ind = np.arange(len(Ram_Baseline_Avgs))\n",
    "Ram_width = .3\n",
    "Diff = Ram_width/2\n",
    "Ram_ylabel = \"Megabytes per Second\"\n",
    "Ram_xlabel = \"RamSpeed Benchmarks\"\n",
    "\n",
    "Ram_BarBase = ax.bar(Ram_ind - Diff, Ram_Baseline_Avgs, Ram_width, label='Baseline') #No error bars b/c boxplots\n",
    "Ram_BarRes = ax.bar(Ram_ind + Diff, Ram_Residue_Avgs, Ram_width, label='ResidueFree')\n",
    "ax.boxplot(Ram_boxplots, positions=[0-Diff,0+Diff,1-Diff,1+Diff], widths=Ram_width, medianprops=dict(color='green'))\n",
    "\n",
    "\n",
    "ax.set_ylabel(Ram_ylabel, fontsize=14)\n",
    "ax.set_xlabel(Ram_xlabel, fontsize=14)\n",
    "ax.set_xticks(Ram_ind) \n",
    "xlabels = [var.split('_')[1] for var in Ram_varnames]\n",
    "xlabels = [var.replace('P',' P') for var in xlabels]\n",
    "ax.set_xticklabels(xlabels) \n",
    "ax.legend( (Ram_BarBase, Ram_BarRes), ('Baseline','ResidueFree'), loc='upper left' )\n",
    "\n",
    "GRAPH_HEIGHT=4\n",
    "fig.set_size_inches(4, GRAPH_HEIGHT, forward=True)\n",
    "fig.tight_layout()\n",
    "plt.grid(b=True,which=\"major\",axis=\"y\")\n",
    "plt.style.use('tableau-colorblind10')\n",
    "plt.ylim(bottom=7000)\n",
    "plt.savefig(\"./Figures/RamSpeed.pdf\")\n",
    "plt.show()"
   ]
  },
  {
   "cell_type": "code",
   "execution_count": 8,
   "metadata": {},
   "outputs": [
    {
     "data": {
      "image/png": "[encoded data removed]",
      "text/plain": [
       "<Figure size 288x288 with 1 Axes>"
      ]
     },
     "metadata": {
      "needs_background": "light"
     },
     "output_type": "display_data"
    }
   ],
   "source": [
    "#LOOPBACK FIGURE PLOT#\n",
    "fig, ax = plt.subplots() \n",
    "Loop_ind = np.arange(len(Loop_Baseline_Avgs)) \n",
    "Loop_width = .3 \n",
    "Diff = Loop_width/2\n",
    "Loop_ylabel = \"Gigabytes per Second\"\n",
    "Loop_xlabel = \"Network Loopback Benchmark\"\n",
    "\n",
    "Loop_BarBase = ax.bar(Loop_ind - Diff, Loop_Baseline_Avgs, Loop_width, label='Baseline') \n",
    "Loop_BarRes = ax.bar(Loop_ind + Diff, Loop_Residue_Avgs, Loop_width, label='ResidueFree')\n",
    "ax.boxplot(Loop_boxplots, positions=[0-Diff,0+Diff], widths=Loop_width, medianprops=dict(color='green'))\n",
    "\n",
    "ax.set_ylabel(Loop_ylabel, fontsize=14)\n",
    "ax.set_xlabel(Loop_xlabel, fontsize=14)\n",
    "ax.legend( (Loop_BarBase, Loop_BarRes), ('Baseline','ResidueFree'), fontsize=11 )\n",
    "plt.yticks(fontsize=12)\n",
    "plt.tick_params(axis='x', which='both',bottom=False,top=False,labelbottom=False)\n",
    "\n",
    "GRAPH_HEIGHT = 4\n",
    "fig.set_size_inches(4, GRAPH_HEIGHT, forward=True)\n",
    "fig.tight_layout() \n",
    "plt.grid(b=True,which=\"major\",axis=\"y\")\n",
    "plt.style.use('tableau-colorblind10')\n",
    "plt.ylim(bottom=0.4)\n",
    "plt.savefig(\"./Figures/Loopback.pdf\")\n",
    "plt.show()"
   ]
  },
  {
   "cell_type": "code",
   "execution_count": 9,
   "metadata": {},
   "outputs": [
    {
     "data": {
      "image/png": "[encoded data removed]",
      "text/plain": [
       "<Figure size 288x288 with 1 Axes>"
      ]
     },
     "metadata": {
      "needs_background": "light"
     },
     "output_type": "display_data"
    }
   ],
   "source": [
    "#SSL FIGURE PLOT\n",
    "fig, ax = plt.subplots() \n",
    "SSL_ind = np.arange(len(SSL_Baseline_Avgs)) \n",
    "SSL_width = .3 \n",
    "Diff = SSL_width/2\n",
    "SSL_ylabel = \"RSA Signatures per Second\"\n",
    "SSL_xlabel = \"OpenSSL Benchmark\"\n",
    "\n",
    "SSL_BarBase = ax.bar(SSL_ind - Diff, SSL_Baseline_Avgs, SSL_width, label='Baseline') \n",
    "SSL_BarRes = ax.bar(SSL_ind + Diff, SSL_Residue_Avgs, SSL_width, label='ResidueFree')\n",
    "ax.boxplot(SSL_boxplots, positions=[0-Diff,0+Diff], widths=SSL_width, medianprops=dict(color='green'))\n",
    "\n",
    "ax.legend( (SSL_BarBase, SSL_BarRes), ('Baseline','ResidueFree'), fontsize=11 )\n",
    "ax.set_ylabel(SSL_ylabel, fontsize=14)\n",
    "ax.set_xlabel(SSL_xlabel, fontsize=14)\n",
    "fig.set_size_inches(4, 4, forward=True)\n",
    "plt.yticks(fontsize=12)\n",
    "plt.tick_params(axis='x', which='both',bottom=False,top=False,labelbottom=False)\n",
    "\n",
    "GRAPH_HEIGHT=4\n",
    "fig.set_size_inches(4, GRAPH_HEIGHT, forward=True)\n",
    "fig.tight_layout()\n",
    "plt.grid(b=True,which=\"major\",axis=\"y\")\n",
    "plt.style.use('tableau-colorblind10')\n",
    "plt.ylim(bottom=275,top=295)\n",
    "plt.savefig(\"./Figures/OpenSSL.pdf\")\n",
    "plt.show()"
   ]
  },
  {
   "cell_type": "code",
   "execution_count": 10,
   "metadata": {},
   "outputs": [
    {
     "data": {
      "image/png": "[encoded data removed]",
      "text/plain": [
       "<Figure size 576x288 with 1 Axes>"
      ]
     },
     "metadata": {
      "needs_background": "light"
     },
     "output_type": "display_data"
    }
   ],
   "source": [
    "## API FIGURE PLOT ##\n",
    "\n",
    "# Because so many API tests, create arrays of only 1/3rd of tests that will be shown in the figure\n",
    "g_API_Baseline_Avgs = []\n",
    "g_API_Residue_Avgs = []\n",
    "g_API_Baseline_Stds = []\n",
    "g_API_Residue_Stds = []\n",
    "g_API_varnames = []\n",
    "g_API_boxplots = []\n",
    "g_API_boxplots = []\n",
    "\n",
    "# Put one out of every three elements from the existing arrays into the graph ones.\n",
    "for i in range(0,len(API_Baseline_Avgs)):\n",
    "    if i % 3 == 2:\n",
    "        g_API_Baseline_Avgs.append(API_Baseline_Avgs[i]) \n",
    "        g_API_Residue_Avgs.append(API_Residue_Avgs[i])\n",
    "        g_API_Baseline_Stds.append(API_Baseline_Stds[i])\n",
    "        g_API_Residue_Stds.append(API_Residue_Stds[i])\n",
    "        g_API_varnames.append(API_varnames[i])\n",
    "        g_API_boxplots.append(API_boxplots[i*2]) #Boxplot array has baseline and residue free next to one another\n",
    "        g_API_boxplots.append(API_boxplots[(i*2)+1])\n",
    "\n",
    "fig, ax = plt.subplots() \n",
    "g_API_ind = np.arange(len(g_API_Baseline_Avgs)) \n",
    "g_API_width = .2\n",
    "Diff = g_API_width/2\n",
    "g_API_ylabel = \"Frames per Second\"\n",
    "g_API_xlabel = \"Graphics API Operations\"\n",
    "\n",
    "postns = [] # positions - really indices, for where to put boxplots on top of bar charts\n",
    "for pos in g_API_ind:\n",
    "    postns.append(pos-Diff)\n",
    "    postns.append(pos+Diff)\n",
    "g_API_BarBase = ax.bar(g_API_ind - Diff, g_API_Baseline_Avgs, g_API_width, label='Baseline') \n",
    "g_API_BarRes = ax.bar(g_API_ind + Diff, g_API_Residue_Avgs, g_API_width, label='ResidueFree')\n",
    "ax.boxplot(g_API_boxplots, positions=postns, widths=g_API_width, medianprops=dict(color='green'))\n",
    "\n",
    "ax.set_ylabel(g_API_ylabel, fontsize=14)\n",
    "ax.set_xlabel(g_API_xlabel, fontsize=14)\n",
    "ax.set_xticks(g_API_ind)\n",
    "\n",
    "''' Trimming variable names produces results that are still too long\n",
    "xlabels = [var.split('_res')[0] for var in g_API_varnames]\n",
    "xlabels = [var.split('GL')[1] for var in xlabels]\n",
    "xlabels = [var.replace('_',' ')for var in xlabels]\n",
    "'''\n",
    "# Manually label test names for clarity\n",
    "xlabels = ['No Texture', 'Buffer Range', 'Buffer Sub-Data: Objects', 'Native Uniform', 'Map: Unsynchornized Streaming', 'Buffer Storage: No SDP']\n",
    "ax.set_xticklabels(xlabels, fontsize=11, rotation=15, ha='right') \n",
    "ax.legend( (g_API_BarBase, g_API_BarRes), ('Baseline','ResidueFree'), fontsize=11 )\n",
    "plt.yticks(fontsize=12)\n",
    "\n",
    "#Figure presentability\n",
    "GRAPH_HEIGHT=4\n",
    "fig.set_size_inches(8, GRAPH_HEIGHT, forward=True)\n",
    "plt.grid(b=True,which=\"major\",axis=\"y\",color='gray')\n",
    "fig.tight_layout() \n",
    "plt.style.use('tableau-colorblind10')\n",
    "plt.savefig(\"./Figures/API.pdf\")\n",
    "plt.show()"
   ]
  },
  {
   "cell_type": "code",
   "execution_count": 11,
   "metadata": {
    "scrolled": true
   },
   "outputs": [
    {
     "name": "stdout",
     "output_type": "stream",
     "text": [
      "0.5427009745619849\n",
      "0.5416115252036903\n",
      "1.0\n"
     ]
    }
   ],
   "source": [
    "# Compare Network Loopback speeds in ResidueFree vs normal \n",
    "print(np.mean(ResidueFree.Loopback_results)) \n",
    "print(np.mean(Baseline.Loopback_results))\n",
    "print(np.mean(ResidueFree.Loopback_results)/np.mean(ResidueFree.Loopback_results))"
   ]
  },
  {
   "cell_type": "code",
   "execution_count": 12,
   "metadata": {
    "scrolled": true
   },
   "outputs": [
    {
     "name": "stdout",
     "output_type": "stream",
     "text": [
      "289.896\n",
      "290.385\n",
      "0.9983160287204919\n"
     ]
    }
   ],
   "source": [
    "# Compare OpenSSL encryption speeds in ResidueFree vs normal \n",
    "print(np.mean(ResidueFree.OpenSSL_results)) \n",
    "print(np.mean(Baseline.OpenSSL_results))\n",
    "print(np.mean(ResidueFree.OpenSSL_results)/np.mean(Baseline.OpenSSL_results))"
   ]
  },
  {
   "cell_type": "code",
   "execution_count": 13,
   "metadata": {},
   "outputs": [
    {
     "name": "stdout",
     "output_type": "stream",
     "text": [
      "10325.518\n",
      "8771.003\n",
      "1.1772334361303947\n"
     ]
    }
   ],
   "source": [
    "# Compare RAM speeds in ResidueFree vs normal \n",
    "print(np.mean(Ram_Residue_Avgs))\n",
    "print(np.mean(Ram_Baseline_Avgs))\n",
    "print(np.mean(Ram_Residue_Avgs) / np.mean(Ram_Baseline_Avgs))"
   ]
  },
  {
   "cell_type": "code",
   "execution_count": 14,
   "metadata": {},
   "outputs": [
    {
     "name": "stdout",
     "output_type": "stream",
     "text": [
      "13.825449999999998\n",
      "14.0361\n",
      "0.9849922699325311\n"
     ]
    }
   ],
   "source": [
    "# Compare Graphics API operations in ResidueFree vs normal \n",
    "print(np.mean(API_Residue_Avgs))\n",
    "print(np.mean(API_Baseline_Avgs))\n",
    "print(np.mean(API_Residue_Avgs) / np.mean(API_Baseline_Avgs))"
   ]
  }
 ],
 "metadata": {
  "kernelspec": {
   "display_name": "Python 3",
   "language": "python",
   "name": "python3"
  },
  "language_info": {
   "codemirror_mode": {
    "name": "ipython",
    "version": 3
   },
   "file_extension": ".py",
   "mimetype": "text/x-python",
   "name": "python",
   "nbconvert_exporter": "python",
   "pygments_lexer": "ipython3",
   "version": "3.9.5"
  }
 },
 "nbformat": 4,
 "nbformat_minor": 2
}
