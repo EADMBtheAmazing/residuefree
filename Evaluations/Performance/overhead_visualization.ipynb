{
 "cells": [
  {
   "cell_type": "code",
   "execution_count": 1,
   "metadata": {},
   "outputs": [],
   "source": [
    "############################################################\n",
    "### Notebook to visualize and analyze the overhead times ###\n",
    "### for starting and stopping ResidueFree. The data files###\n",
    "### and scripts used to collect the data are in the      ###\n",
    "### overhead_times folder                                ###\n",
    "############################################################"
   ]
  },
  {
   "cell_type": "code",
   "execution_count": 2,
   "metadata": {},
   "outputs": [],
   "source": [
    "import matplotlib\n",
    "import matplotlib.pyplot as plt\n",
    "import numpy as np\n",
    "import statistics"
   ]
  },
  {
   "cell_type": "code",
   "execution_count": 3,
   "metadata": {},
   "outputs": [],
   "source": [
    "#Class to maintain the raw epoch times, and differences in seconds between different launch points\n",
    "class LaunchMode:\n",
    "    def __init__(self, name):\n",
    "        self.name = name\n",
    "        self.raw_times = []\n",
    "        self.total_diffs = np.array([])\n",
    "        self.res_diffs = np.array([])\n",
    "        self.docker_diffs = np.array([])"
   ]
  },
  {
   "cell_type": "code",
   "execution_count": 4,
   "metadata": {
    "scrolled": true
   },
   "outputs": [],
   "source": [
    "# Times collected after ResidueFree had been used since boot\n",
    "launchfile = open(\"./overhead_times/timing.txt\")\n",
    "launchlines = launchfile.read().splitlines()\n",
    "base_launch_lines = launchlines[34:65]\n",
    "#print(base_launch_lines)"
   ]
  },
  {
   "cell_type": "code",
   "execution_count": 5,
   "metadata": {},
   "outputs": [],
   "source": [
    "# Initial launch times\n",
    "daemon_test = open(\"./overhead_times/timing.txt\")\n",
    "daemon_lines = daemon_test.read().splitlines()\n",
    "daemon_on_lines = daemon_lines[21:32]\n",
    "daemon_off_lines = daemon_lines[9:19]\n",
    "\n",
    "#print(daemon_on_lines)\n",
    "#print(daemon_off_lines)"
   ]
  },
  {
   "cell_type": "code",
   "execution_count": 6,
   "metadata": {},
   "outputs": [],
   "source": [
    "BaseLaunch = LaunchMode('Base')\n",
    "NoDaemonInit = LaunchMode('NoDaemonInit')\n",
    "YesDaemonInit = LaunchMode('YesDaemonInit')\n",
    "\n",
    "Close_raw_times = []\n",
    "Close_diffs = np.array([])\n",
    "\n",
    "for tmp in base_launch_lines:\n",
    "    tmp = list(map(int, tmp.split()))\n",
    "    tmp = [int(i)/1000 for i in tmp] #convert to int\n",
    "    \n",
    "    #0 - start script, 1 - starting docker, 2 - inside residue free, 3 - end of script (after close)\n",
    "    BaseLaunch.raw_times.append(tmp)\n",
    "    BaseLaunch.total_diffs = np.append(BaseLaunch.total_diffs, tmp[2]-tmp[0])\n",
    "    BaseLaunch.res_diffs = np.append(BaseLaunch.res_diffs, tmp[1]-tmp[0])\n",
    "    BaseLaunch.docker_diffs = np.append(BaseLaunch.docker_diffs, tmp[2]-tmp[1])\n",
    "    Close_diffs = np.append(Close_diffs, tmp[3]-tmp[2])\n",
    "\n",
    "for tmp in daemon_off_lines:\n",
    "    tmp = list(map(int, tmp.split()))\n",
    "    tmp = [int(i)/1000 for i in tmp] #convert from milliseconds to seconds\n",
    "    \n",
    "    NoDaemonInit.raw_times.append(tmp)\n",
    "    NoDaemonInit.total_diffs = np.append(NoDaemonInit.total_diffs, tmp[2]-tmp[0])\n",
    "    NoDaemonInit.res_diffs = np.append(NoDaemonInit.res_diffs, tmp[1]-tmp[0])\n",
    "    NoDaemonInit.docker_diffs = np.append(NoDaemonInit.docker_diffs, tmp[2]-tmp[1])\n",
    "    \n",
    "for tmp in daemon_on_lines:\n",
    "    tmp = list(map(int, tmp.split()))\n",
    "    tmp = [int(i)/1000 for i in tmp] #convert from milliseconds to seconds\n",
    "    \n",
    "    YesDaemonInit.raw_times.append(tmp)\n",
    "    YesDaemonInit.total_diffs = np.append(YesDaemonInit.total_diffs, tmp[2]-tmp[0])\n",
    "    YesDaemonInit.res_diffs = np.append(YesDaemonInit.res_diffs, tmp[1]-tmp[0])\n",
    "    YesDaemonInit.docker_diffs = np.append(YesDaemonInit.docker_diffs, tmp[2]-tmp[1])"
   ]
  },
  {
   "cell_type": "code",
   "execution_count": 7,
   "metadata": {},
   "outputs": [],
   "source": [
    "# Set standard plot options\n",
    "def set_plot_options():\n",
    "    options = {\n",
    "        'backend': 'PDF',\n",
    "        'font.size': 12,\n",
    "        'figure.figsize': (4,2),\n",
    "        'figure.dpi': 100.0,\n",
    "        'figure.subplot.left': 0.20,\n",
    "        'figure.subplot.right': 0.97,\n",
    "        'figure.subplot.bottom': 0.20,\n",
    "        'figure.subplot.top': 0.90,\n",
    "        'grid.color': '0.1',\n",
    "        'grid.linestyle': ':',\n",
    "        #'grid.linewidth': 0.5,\n",
    "        'axes.grid' : True,\n",
    "        #'axes.grid.axis' : 'y',\n",
    "        #'axes.axisbelow': True,\n",
    "        'axes.titlesize' : 'medium',\n",
    "        'axes.labelsize' : 'medium',\n",
    "        'axes.formatter.limits': (-4,4),\n",
    "        'xtick.labelsize' : 12,\n",
    "        'ytick.labelsize' : 12,\n",
    "        'lines.linewidth' : 2.0,\n",
    "        'lines.markeredgewidth' : 0.5,\n",
    "        'lines.markersize' : 10,\n",
    "        'legend.fontsize' : 11,\n",
    "        'legend.fancybox' : False,\n",
    "        'legend.shadow' : False,\n",
    "        'legend.borderaxespad' : 0.5,\n",
    "        'legend.numpoints' : 1,\n",
    "        'legend.handletextpad' : 0.5,\n",
    "        'legend.handlelength' : 2.0,\n",
    "        'legend.labelspacing' : .75,\n",
    "        'legend.markerscale' : 1.0,\n",
    "        # turn on the following to embedd fonts; requires latex\n",
    "        'ps.useafm' : True,\n",
    "        'pdf.use14corefonts' : True,\n",
    "        'text.usetex' : True,\n",
    "        'pdf.fonttype' : 42,\n",
    "        'ps.fonttype' : 42,\n",
    "    }\n",
    "\n",
    "    for option_key in options:\n",
    "        matplotlib.rcParams[option_key] = options[option_key]\n",
    "\n",
    "    if 'figure.max_num_figures' in matplotlib.rcParams:\n",
    "        matplotlib.rcParams['figure.max_num_figures'] = 50\n",
    "    if 'figure.max_open_warning' in matplotlib.rcParams:\n",
    "        matplotlib.rcParams['figure.max_open_warning'] = 50\n",
    "    if 'legend.ncol' in matplotlib.rcParams:\n",
    "        matplotlib.rcParams['legend.ncol'] = 50"
   ]
  },
  {
   "cell_type": "code",
   "execution_count": 8,
   "metadata": {},
   "outputs": [],
   "source": [
    "#Set fonttype so it is not type3 (for publishing)\n",
    "matplotlib.rcParams['pdf.fonttype'] = 42\n",
    "matplotlib.rcParams['ps.fonttype'] = 42"
   ]
  },
  {
   "cell_type": "code",
   "execution_count": 9,
   "metadata": {},
   "outputs": [
    {
     "data": {
      "image/png": "[encoded data removed]",
      "text/plain": [
       "<Figure size 576x288 with 1 Axes>"
      ]
     },
     "metadata": {},
     "output_type": "display_data"
    }
   ],
   "source": [
    "## Create stacked bar charts of total launch times broken up by Docker and non-Docker\n",
    "#  Also display shutdown times (did not vary)\n",
    "\n",
    "Docker_avgs = [np.mean(NoDaemonInit.docker_diffs), np.mean(YesDaemonInit.docker_diffs), np.mean(BaseLaunch.docker_diffs)]\n",
    "Docker_stds = [np.std(NoDaemonInit.docker_diffs), np.std(YesDaemonInit.docker_diffs), np.std(BaseLaunch.docker_diffs)]\n",
    "Other_avgs = [np.mean(NoDaemonInit.res_diffs), np.mean(YesDaemonInit.res_diffs), np.mean(BaseLaunch.res_diffs)]\n",
    "Other_stds = [np.std(NoDaemonInit.res_diffs), np.std(YesDaemonInit.res_diffs), np.std(BaseLaunch.res_diffs)]\n",
    "\n",
    "modes = [BaseLaunch, NoDaemonInit, YesDaemonInit]\n",
    "fig, ax = plt.subplots()\n",
    "ind = np.arange(len(modes))\n",
    "\n",
    "width = 0.35\n",
    "\n",
    "ax.bar(ind, Docker_avgs, width, yerr=Docker_stds, label=\"Docker Startup Time\")\n",
    "ax.bar(ind, Other_avgs, width, yerr=Other_stds, bottom=Docker_avgs, label=\"Other Startup Times\")\n",
    "ax.bar(3, np.mean(Close_diffs), width, yerr=np.std(Close_diffs),color='purple')\n",
    "\n",
    "Ticks = [\"1st Run w/o Daemon\", \"1st Run w/ Daemon \", \"Successive Launches\", \"Shutdown Time\"]\n",
    "\n",
    "ax.set_ylabel(\"Seconds\",fontsize=14)\n",
    "ax.set_xlabel(\"Overhead Times\",fontsize=14)\n",
    "ax.set_xticks([0,1,2,3])\n",
    "ax.set_xticklabels(Ticks, fontsize=11)\n",
    "\n",
    "# Create legend but exlude Shutdown time bar\n",
    "handles, labels = ax.get_legend_handles_labels()\n",
    "ax.legend(handles[::-1], labels[::-1], fontsize=11)\n",
    "\n",
    "# Display options / tweaking\n",
    "fig.tight_layout()\n",
    "plt.grid(b=True,which=\"major\",axis=\"y\",color='gray')\n",
    "fig.set_size_inches(8, 4, forward=True)\n",
    "plt.yticks(fontsize=11)\n",
    "plt.style.use('tableau-colorblind10')\n",
    "fig.set_facecolor('white')\n",
    "plt.savefig(\"./Figures/Overhead.pdf\")\n",
    "plt.show()"
   ]
  },
  {
   "cell_type": "code",
   "execution_count": 10,
   "metadata": {},
   "outputs": [
    {
     "name": "stdout",
     "output_type": "stream",
     "text": [
      "3.884500002861023\n",
      "7.737454544414174\n",
      "17.694399976730345\n"
     ]
    }
   ],
   "source": [
    "# Print total average launch times for all three starting modes\n",
    "print(np.mean(BaseLaunch.total_diffs))\n",
    "print(np.mean(YesDaemonInit.total_diffs))\n",
    "print(np.mean(NoDaemonInit.total_diffs))"
   ]
  },
  {
   "cell_type": "code",
   "execution_count": 11,
   "metadata": {},
   "outputs": [
    {
     "name": "stdout",
     "output_type": "stream",
     "text": [
      "2.4380000193913776\n"
     ]
    }
   ],
   "source": [
    "print(np.mean(Close_diffs))"
   ]
  },
  {
   "cell_type": "code",
   "execution_count": 12,
   "metadata": {},
   "outputs": [
    {
     "name": "stdout",
     "output_type": "stream",
     "text": [
      "2.247166665395101\n",
      "5.554636370051991\n",
      "15.462300014495849\n"
     ]
    }
   ],
   "source": [
    "# Print average Docker launch times for all three starting modes\n",
    "print(np.mean(BaseLaunch.docker_diffs))\n",
    "print(np.mean(YesDaemonInit.docker_diffs))\n",
    "print(np.mean(NoDaemonInit.docker_diffs))"
   ]
  },
  {
   "cell_type": "code",
   "execution_count": 13,
   "metadata": {},
   "outputs": [
    {
     "name": "stdout",
     "output_type": "stream",
     "text": [
      "1.637333337465922\n",
      "2.1828181743621826\n",
      "2.2320999622344972\n"
     ]
    }
   ],
   "source": [
    "# Print non-Docker (ResidueFree core) for all three starting modes\n",
    "print(np.mean(BaseLaunch.res_diffs))\n",
    "print(np.mean(YesDaemonInit.res_diffs))\n",
    "print(np.mean(NoDaemonInit.res_diffs))"
   ]
  }
 ],
 "metadata": {
  "kernelspec": {
   "display_name": "Python 3",
   "language": "python",
   "name": "python3"
  },
  "language_info": {
   "codemirror_mode": {
    "name": "ipython",
    "version": 3
   },
   "file_extension": ".py",
   "mimetype": "text/x-python",
   "name": "python",
   "nbconvert_exporter": "python",
   "pygments_lexer": "ipython3",
   "version": "3.9.5"
  }
 },
 "nbformat": 4,
 "nbformat_minor": 2
}
