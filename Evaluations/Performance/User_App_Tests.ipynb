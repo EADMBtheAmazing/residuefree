{
 "cells": [
  {
   "cell_type": "code",
   "execution_count": 1,
   "metadata": {},
   "outputs": [],
   "source": [
    "############################################################\n",
    "### Notebook to visualize and analyze time to run user   ###\n",
    "### apps inside and outside ResidueFree. Data and scripts###\n",
    "### used to collect the data are in the user_performance ###\n",
    "### folder                                               ###\n",
    "############################################################"
   ]
  },
  {
   "cell_type": "code",
   "execution_count": 2,
   "metadata": {},
   "outputs": [],
   "source": [
    "import matplotlib.pyplot as plt\n",
    "import numpy as np\n",
    "import statistics"
   ]
  },
  {
   "cell_type": "code",
   "execution_count": 3,
   "metadata": {},
   "outputs": [],
   "source": [
    "# Default MatPlotLib figure display options\n",
    "def set_plot_options():\n",
    "    options = {\n",
    "        'backend': 'PDF',\n",
    "        'font.size': 12,\n",
    "        'figure.figsize': (4,2),\n",
    "        'figure.dpi': 100.0,\n",
    "        'figure.subplot.left': 0.20,\n",
    "        'figure.subplot.right': 0.97,\n",
    "        'figure.subplot.bottom': 0.20,\n",
    "        'figure.subplot.top': 0.90,\n",
    "        'grid.color': '0.1',\n",
    "        'grid.linestyle': ':',\n",
    "        #'grid.linewidth': 0.5,\n",
    "        'axes.grid' : True,\n",
    "        #'axes.grid.axis' : 'y',\n",
    "        #'axes.axisbelow': True,\n",
    "        'axes.titlesize' : 'medium',\n",
    "        'axes.labelsize' : 'medium',\n",
    "        'axes.formatter.limits': (-4,4),\n",
    "        'xtick.labelsize' : 12,\n",
    "        'ytick.labelsize' : 12,\n",
    "        'lines.linewidth' : 2.0,\n",
    "        'lines.markeredgewidth' : 0.5,\n",
    "        'lines.markersize' : 10,\n",
    "        'legend.fontsize' : 11,\n",
    "        'legend.fancybox' : False,\n",
    "        'legend.shadow' : False,\n",
    "        'legend.borderaxespad' : 0.5,\n",
    "        'legend.numpoints' : 1,\n",
    "        'legend.handletextpad' : 0.5,\n",
    "        'legend.handlelength' : 2.0,\n",
    "        'legend.labelspacing' : .75,\n",
    "        'legend.markerscale' : 1.0,\n",
    "        # turn on the following to embedd fonts; requires latex\n",
    "        'ps.useafm' : True,\n",
    "        'pdf.use14corefonts' : True,\n",
    "        'text.usetex' : True,\n",
    "    }\n",
    "\n",
    "    for option_key in options:\n",
    "        matplotlib.rcParams[option_key] = options[option_key]\n",
    "\n",
    "    if 'figure.max_num_figures' in matplotlib.rcParams:\n",
    "        matplotlib.rcParams['figure.max_num_figures'] = 50\n",
    "    if 'figure.max_open_warning' in matplotlib.rcParams:\n",
    "        matplotlib.rcParams['figure.max_open_warning'] = 50\n",
    "    if 'legend.ncol' in matplotlib.rcParams:\n",
    "        matplotlib.rcParams['legend.ncol'] = 50\n",
    "\n",
    "\n",
    "\n",
    "def plot():\n",
    "    matplotlib.rcParams['figure.figsize'] = (7,3)\n",
    "    "
   ]
  },
  {
   "cell_type": "code",
   "execution_count": 4,
   "metadata": {},
   "outputs": [],
   "source": [
    "# Define file names where times are written\n",
    "\n",
    "dir=\"user_performance/\"\n",
    "# Milliseconds (3 places): libreoffice & sftp\n",
    "libre_string = dir+\"libre_times.txt\"\n",
    "sftp_string = dir+\"sftp_times.txt\"\n",
    "wget_string = dir+\"wget_times.txt\"\n",
    "\n",
    "#Seconds\n",
    "vlc_string = dir+\"vlc_times.txt\"\n",
    "\n",
    "#Difference already recorded\n",
    "firefox_string = dir+\"firefox_times.txt\"\n",
    "\n",
    "tests_Baseline_Avgs = [] \n",
    "tests_Baseline_Stds = [] \n",
    "tests_Residue_Avgs = [] \n",
    "tests_Residue_Stds = [] \n",
    "tests_varnames = []\n",
    "tests_boxplots = []"
   ]
  },
  {
   "cell_type": "code",
   "execution_count": 5,
   "metadata": {},
   "outputs": [],
   "source": [
    "## Parse LibreOffice times\n",
    "\n",
    "libre_file = open(libre_string,'r')\n",
    "\n",
    "libre_lines = libre_file.read().splitlines()\n",
    "\n",
    "standard = libre_lines[3:13]\n",
    "residue = libre_lines[15:25]\n",
    "\n",
    "libre_standard_diffs = np.array([])\n",
    "libre_residue_diffs = np.array([])\n",
    "#print(standard)\n",
    "#print(residue)\n",
    "\n",
    "# Convert milliseconds to seconds\n",
    "for tmp in standard:\n",
    "    tmp = list(map(int, tmp.split()))\n",
    "    tmp = [float(i)/1000 for i in tmp] #convert to int\n",
    "    libre_standard_diffs = np.append(libre_standard_diffs, tmp[1]-tmp[0])\n",
    "    \n",
    "for tmp in residue:\n",
    "    tmp = list(map(int, tmp.split()))\n",
    "    tmp = [float(i)/1000 for i in tmp] #convert to int\n",
    "    libre_residue_diffs = np.append(libre_residue_diffs, tmp[1]-tmp[0])\n",
    "    \n",
    "#print(libre_standard_diffs)\n",
    "#print(libre_residue_diffs)\n",
    "Baseline = libre_standard_diffs\n",
    "Residue = libre_residue_diffs\n",
    "\n",
    "tests_Baseline_Avgs.append(np.mean(Baseline)) \n",
    "tests_Baseline_Stds.append(np.std(Baseline)) \n",
    "tests_Residue_Avgs.append(np.mean(Residue)) \n",
    "tests_Residue_Stds.append(np.std(Residue)) \n",
    "tests_varnames.append(\"LibreOffice\")\n",
    "tests_boxplots.append(Baseline)\n",
    "tests_boxplots.append(Residue)"
   ]
  },
  {
   "cell_type": "code",
   "execution_count": 6,
   "metadata": {},
   "outputs": [],
   "source": [
    "## Parse SFTP times\n",
    "\n",
    "sftp_file = open(sftp_string,'r')\n",
    "\n",
    "sftp_lines = sftp_file.read().splitlines()\n",
    "\n",
    "standard = sftp_lines[3:13]\n",
    "residue = sftp_lines[15:25]\n",
    "\n",
    "sftp_standard_diffs = np.array([])\n",
    "sftp_residue_diffs = np.array([])\n",
    "#print(standard)\n",
    "#print(residue)\n",
    "\n",
    "# Convert milliseconds to seconds\n",
    "for tmp in standard:\n",
    "    tmp = list(map(int, tmp.split()))\n",
    "    tmp = [float(i)/1000 for i in tmp] #convert to int\n",
    "    sftp_standard_diffs = np.append(sftp_standard_diffs, tmp[1]-tmp[0])\n",
    "    \n",
    "for tmp in residue:\n",
    "    tmp = list(map(int, tmp.split()))\n",
    "    tmp = [float(i)/1000 for i in tmp] #convert to int\n",
    "    sftp_residue_diffs = np.append(sftp_residue_diffs, tmp[1]-tmp[0])\n",
    "    \n",
    "#print(sftp_standard_diffs)\n",
    "#print(sftp_residue_diffs)\n",
    "\n",
    "Baseline = sftp_standard_diffs\n",
    "Residue = sftp_residue_diffs\n",
    "\n",
    "tests_Baseline_Avgs.append(np.mean(Baseline)) \n",
    "tests_Baseline_Stds.append(np.std(Baseline)) \n",
    "tests_Residue_Avgs.append(np.mean(Residue)) \n",
    "tests_Residue_Stds.append(np.std(Residue)) \n",
    "tests_varnames.append(\"SFTP\")\n",
    "tests_boxplots.append(Baseline)\n",
    "tests_boxplots.append(Residue)"
   ]
  },
  {
   "cell_type": "code",
   "execution_count": 7,
   "metadata": {},
   "outputs": [],
   "source": [
    "## Parse VLC Times\n",
    "\n",
    "vlc_file = open(vlc_string,'r')\n",
    "\n",
    "vlc_lines = vlc_file.read().splitlines()\n",
    "\n",
    "standard = vlc_lines[3:13]\n",
    "residue = vlc_lines[15:25]\n",
    "\n",
    "vlc_standard_diffs = np.array([])\n",
    "vlc_residue_diffs = np.array([])\n",
    "#print(standard)\n",
    "#print(residue)\n",
    "\n",
    "for tmp in standard:\n",
    "    tmp = list(map(int, tmp.split()))\n",
    "    vlc_standard_diffs = np.append(vlc_standard_diffs, tmp[1]-tmp[0])\n",
    "    \n",
    "for tmp in residue:\n",
    "    tmp = list(map(int, tmp.split()))\n",
    "    vlc_residue_diffs = np.append(vlc_residue_diffs, tmp[1]-tmp[0])\n",
    "    \n",
    "#print(vlc_standard_diffs)\n",
    "#print(vlc_residue_diffs)\n",
    "\n",
    "Baseline = vlc_standard_diffs\n",
    "Residue = vlc_residue_diffs\n",
    "\n",
    "tests_Baseline_Avgs.append(np.mean(Baseline)) \n",
    "tests_Baseline_Stds.append(np.std(Baseline)) \n",
    "tests_Residue_Avgs.append(np.mean(Residue)) \n",
    "tests_Residue_Stds.append(np.std(Residue)) \n",
    "tests_varnames.append(\"VLC\")\n",
    "tests_boxplots.append(Baseline)\n",
    "tests_boxplots.append(Residue)"
   ]
  },
  {
   "cell_type": "code",
   "execution_count": 8,
   "metadata": {},
   "outputs": [],
   "source": [
    "# Parse WGET times\n",
    "\n",
    "wget_file = open(wget_string,'r')\n",
    "\n",
    "wget_lines = wget_file.read().splitlines()\n",
    "\n",
    "standard = wget_lines[3:13]\n",
    "residue = wget_lines[15:25]\n",
    "\n",
    "wget_standard_diffs = np.array([])\n",
    "wget_residue_diffs = np.array([])\n",
    "#print(standard)\n",
    "#print(residue)\n",
    "\n",
    "# Milliseconds to seconds\n",
    "for tmp in standard:\n",
    "    tmp = tmp.split()[0:2]\n",
    "    tmp = [int(i)/1000 for i in tmp]\n",
    "    wget_standard_diffs = np.append(wget_standard_diffs, float(tmp[1])-float(tmp[0]))\n",
    "    \n",
    "for tmp in residue:\n",
    "    tmp = tmp.split()[0:2]\n",
    "    tmp = [int(i)/1000 for i in tmp]\n",
    "    wget_residue_diffs = np.append(wget_residue_diffs, float(tmp[1])-float(tmp[0]))\n",
    "    \n",
    "#print(wget_standard_diffs)\n",
    "#print(wget_residue_diffs)\n",
    "\n",
    "Baseline = wget_standard_diffs\n",
    "Residue = wget_residue_diffs\n",
    "\n",
    "tests_Baseline_Avgs.append(np.mean(Baseline)) \n",
    "tests_Baseline_Stds.append(np.std(Baseline)) \n",
    "tests_Residue_Avgs.append(np.mean(Residue)) \n",
    "tests_Residue_Stds.append(np.std(Residue)) \n",
    "tests_varnames.append(\"Wget\")\n",
    "tests_boxplots.append(Baseline)\n",
    "tests_boxplots.append(Residue)"
   ]
  },
  {
   "cell_type": "code",
   "execution_count": 9,
   "metadata": {
    "scrolled": true
   },
   "outputs": [],
   "source": [
    "firefox_file = open(firefox_string,'r')\n",
    "\n",
    "firefox_lines = firefox_file.read().splitlines()\n",
    "\n",
    "standard = firefox_lines[1:11]\n",
    "residue = firefox_lines[13:23]\n",
    "\n",
    "firefox_standard_diffs = np.array([])\n",
    "firefox_residue_diffs = np.array([])\n",
    "#print(standard)\n",
    "#print(residue)\n",
    "\n",
    "# Time differences were manually recorded from Selenium output\n",
    "for tmp in standard:\n",
    "    tmp = int(tmp)\n",
    "    firefox_standard_diffs = np.append(firefox_standard_diffs, tmp)\n",
    "    \n",
    "for tmp in residue:\n",
    "    tmp = int(tmp)\n",
    "    firefox_residue_diffs = np.append(firefox_residue_diffs, tmp)\n",
    "    \n",
    "#print(firefox_standard_diffs)\n",
    "#print(firefox_residue_diffs)\n",
    "\n",
    "Baseline = firefox_standard_diffs\n",
    "Residue = firefox_residue_diffs\n",
    "\n",
    "tests_Baseline_Avgs.append(np.mean(Baseline)) \n",
    "tests_Baseline_Stds.append(np.std(Baseline)) \n",
    "tests_Residue_Avgs.append(np.mean(Residue)) \n",
    "tests_Residue_Stds.append(np.std(Residue)) \n",
    "tests_varnames.append(\"Firefox\")\n",
    "tests_boxplots.append(Baseline)\n",
    "tests_boxplots.append(Residue)"
   ]
  },
  {
   "cell_type": "code",
   "execution_count": 10,
   "metadata": {},
   "outputs": [
    {
     "data": {
      "image/png": "[encoded data removed]",
      "text/plain": [
       "<Figure size 576x288 with 1 Axes>"
      ]
     },
     "metadata": {
      "needs_background": "light"
     },
     "output_type": "display_data"
    }
   ],
   "source": [
    "# Plot the times it took to run the user applications\n",
    "\n",
    "fig, ax = plt.subplots() \n",
    "tests_ind = np.arange(len(tests_Baseline_Avgs)) \n",
    "tests_width = .2\n",
    "Diff = tests_width/2\n",
    "tests_ylabel = \"Seconds\"\n",
    "tests_xlabel = \"User Application Tests\"\n",
    "\n",
    "# Plot bar charts and boxplots showing distribution\n",
    "postns = []\n",
    "for pos in tests_ind:\n",
    "    postns.append(pos-Diff)\n",
    "    postns.append(pos+Diff)\n",
    "tests_BarBase = ax.bar(tests_ind - Diff, tests_Baseline_Avgs, tests_width, label='Baseline') \n",
    "tests_BarRes = ax.bar(tests_ind + Diff, tests_Residue_Avgs, tests_width, label='ResidueFree')\n",
    "ax.boxplot(tests_boxplots, positions=postns, widths=tests_width, medianprops=dict(color='green'))\n",
    "\n",
    "# Set labels and formatting\n",
    "ax.set_ylabel(tests_ylabel, fontsize=14)\n",
    "ax.set_xlabel(tests_xlabel, fontsize=14)\n",
    "ax.set_xticks(tests_ind)\n",
    "xlabels = tests_varnames\n",
    "ax.set_xticklabels(xlabels, fontsize=12) \n",
    "ax.legend( (tests_BarBase, tests_BarRes), ('Baseline','ResidueFree'), fontsize=11 )\n",
    "plt.yticks(fontsize=12)\n",
    "\n",
    "# Figure Display options\n",
    "GRAPH_HEIGHT=4\n",
    "fig.set_size_inches(8, GRAPH_HEIGHT, forward=True)\n",
    "plt.grid(b=True,which=\"major\",axis=\"y\",color='gray')\n",
    "fig.tight_layout() \n",
    "plt.style.use('tableau-colorblind10')\n",
    "plt.savefig(\"./Figures/UserApps.pdf\")\n",
    "plt.show()"
   ]
  },
  {
   "cell_type": "code",
   "execution_count": 11,
   "metadata": {},
   "outputs": [
    {
     "name": "stdout",
     "output_type": "stream",
     "text": [
      "19.72240002155304\n",
      "12.594800019264222\n",
      "1.5659160916717125\n"
     ]
    }
   ],
   "source": [
    "# Compare LibreOffice from ResidueFree to baseline times\n",
    "print(np.mean(libre_residue_diffs))\n",
    "print(np.mean(libre_standard_diffs))\n",
    "print(np.mean(libre_residue_diffs)/np.mean(libre_standard_diffs))"
   ]
  },
  {
   "cell_type": "code",
   "execution_count": 12,
   "metadata": {},
   "outputs": [
    {
     "name": "stdout",
     "output_type": "stream",
     "text": [
      "4.8507000207901\n",
      "5.379300045967102\n",
      "0.9017344225717068\n"
     ]
    }
   ],
   "source": [
    "# Compare SFTP from ResidueFree to baseline times\n",
    "print(np.mean(sftp_residue_diffs))\n",
    "print(np.mean(sftp_standard_diffs))\n",
    "print(np.mean(sftp_residue_diffs)/np.mean(sftp_standard_diffs))"
   ]
  },
  {
   "cell_type": "code",
   "execution_count": 13,
   "metadata": {},
   "outputs": [
    {
     "name": "stdout",
     "output_type": "stream",
     "text": [
      "26.8\n",
      "26.1\n",
      "1.0268199233716475\n"
     ]
    }
   ],
   "source": [
    "# Compare VLC from ResidueFree to baseline times\n",
    "print(np.mean(vlc_residue_diffs))\n",
    "print(np.mean(vlc_standard_diffs))\n",
    "print(np.mean(vlc_residue_diffs)/np.mean(vlc_standard_diffs))"
   ]
  },
  {
   "cell_type": "code",
   "execution_count": 14,
   "metadata": {},
   "outputs": [
    {
     "name": "stdout",
     "output_type": "stream",
     "text": [
      "39.92930002212525\n",
      "40.767900013923644\n",
      "0.9794298948066497\n"
     ]
    }
   ],
   "source": [
    "# Compare wGET from ResidueFree to baseline times\n",
    "print(np.mean(wget_residue_diffs))\n",
    "print(np.mean(wget_standard_diffs))\n",
    "print(np.mean(wget_residue_diffs)/np.mean(wget_standard_diffs))"
   ]
  },
  {
   "cell_type": "code",
   "execution_count": 15,
   "metadata": {},
   "outputs": [
    {
     "name": "stdout",
     "output_type": "stream",
     "text": [
      "16.8\n",
      "16.6\n",
      "1.0120481927710843\n"
     ]
    }
   ],
   "source": [
    "# Compare Firefox from ResidueFree to baseline times\n",
    "print(np.mean(firefox_residue_diffs))\n",
    "print(np.mean(firefox_standard_diffs))\n",
    "print(np.mean(firefox_residue_diffs)/np.mean(firefox_standard_diffs))"
   ]
  }
 ],
 "metadata": {
  "kernelspec": {
   "display_name": "Python 3",
   "language": "python",
   "name": "python3"
  },
  "language_info": {
   "codemirror_mode": {
    "name": "ipython",
    "version": 3
   },
   "file_extension": ".py",
   "mimetype": "text/x-python",
   "name": "python",
   "nbconvert_exporter": "python",
   "pygments_lexer": "ipython3",
   "version": "3.9.5"
  }
 },
 "nbformat": 4,
 "nbformat_minor": 2
}
